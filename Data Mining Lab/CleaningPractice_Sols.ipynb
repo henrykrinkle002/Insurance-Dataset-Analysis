{
 "cells": [
  {
   "cell_type": "markdown",
   "metadata": {},
   "source": [
    "# Lab 2: cleaning operations practice with the Adult dataset\n",
    "In this lab, we will practice what we learned in the clearning operations lab, but now we use a larger dataset, __Adult__, which we already used in the previous lab . We start by loading the data as we have done before, as well as the necessary libraries. We will look at how to generate train/validation/test partitions, as well as how to do some cleaning of outliers on those, or balancing of training sets.  We will also look at how to assess the problem of missing values and how to impute those by a couple of techniques.  \n"
   ]
  },
  {
   "cell_type": "code",
   "execution_count": 2,
   "metadata": {},
   "outputs": [
    {
     "name": "stdout",
     "output_type": "stream",
     "text": [
      "Vis setup Complete\n",
      "Setup complete.\n"
     ]
    }
   ],
   "source": [
    "import pandas as pd\n",
    "import numpy as np\n",
    "import matplotlib.pyplot as plt\n",
    "import seaborn as sns\n",
    "from sklearn.metrics import mean_absolute_error\n",
    "from sklearn.model_selection import train_test_split\n",
    "from sklearn.tree import DecisionTreeRegressor\n",
    "print(\"Vis setup Complete\")\n",
    "print(\"Setup complete.\")"
   ]
  },
  {
   "cell_type": "markdown",
   "metadata": {},
   "source": [
    "## Loading the data\n",
    "\n",
    "Now we begin by loading the data as we have done before and printing the `.head()` and `.tail()` to inspect the data.  Also produce a `countplot` of the target variable _income_ to observe the distribution of classes. Load the data as the _Adult_data_ data frame.  We will use that through the lab."
   ]
  },
  {
   "cell_type": "code",
   "execution_count": 4,
   "metadata": {},
   "outputs": [
    {
     "name": "stdout",
     "output_type": "stream",
     "text": [
      "   age  workclass  fnlwgt     education  educational-num      marital-status  \\\n",
      "0   25    Private  226802          11th                7       Never-married   \n",
      "1   38    Private   89814       HS-grad                9  Married-civ-spouse   \n",
      "2   28  Local-gov  336951    Assoc-acdm               12  Married-civ-spouse   \n",
      "3   44    Private  160323  Some-college               10  Married-civ-spouse   \n",
      "4   18          ?  103497  Some-college               10       Never-married   \n",
      "\n",
      "          occupation relationship   race  gender  capital-gain  capital-loss  \\\n",
      "0  Machine-op-inspct    Own-child  Black    Male             0             0   \n",
      "1    Farming-fishing      Husband  White    Male             0             0   \n",
      "2    Protective-serv      Husband  White    Male             0             0   \n",
      "3  Machine-op-inspct      Husband  Black    Male          7688             0   \n",
      "4                  ?    Own-child  White  Female             0             0   \n",
      "\n",
      "   hours-per-week native-country income  \n",
      "0              40  United-States  <=50K  \n",
      "1              50  United-States  <=50K  \n",
      "2              40  United-States   >50K  \n",
      "3              40  United-States   >50K  \n",
      "4              30  United-States  <=50K  \n",
      "       age     workclass  fnlwgt   education  educational-num  \\\n",
      "48837   27       Private  257302  Assoc-acdm               12   \n",
      "48838   40       Private  154374     HS-grad                9   \n",
      "48839   58       Private  151910     HS-grad                9   \n",
      "48840   22       Private  201490     HS-grad                9   \n",
      "48841   52  Self-emp-inc  287927     HS-grad                9   \n",
      "\n",
      "           marital-status         occupation relationship   race  gender  \\\n",
      "48837  Married-civ-spouse       Tech-support         Wife  White  Female   \n",
      "48838  Married-civ-spouse  Machine-op-inspct      Husband  White    Male   \n",
      "48839             Widowed       Adm-clerical    Unmarried  White  Female   \n",
      "48840       Never-married       Adm-clerical    Own-child  White    Male   \n",
      "48841  Married-civ-spouse    Exec-managerial         Wife  White  Female   \n",
      "\n",
      "       capital-gain  capital-loss  hours-per-week native-country income  \n",
      "48837             0             0              38  United-States  <=50K  \n",
      "48838             0             0              40  United-States   >50K  \n",
      "48839             0             0              40  United-States  <=50K  \n",
      "48840             0             0              20  United-States  <=50K  \n",
      "48841         15024             0              40  United-States   >50K  \n"
     ]
    },
    {
     "data": {
      "image/png": "[encoded data removed]",
      "text/plain": [
       "<Figure size 640x480 with 1 Axes>"
      ]
     },
     "metadata": {},
     "output_type": "display_data"
    }
   ],
   "source": [
    "#designate the path where you saved your Iris data\n",
    "Adult_data_path = \"/Users/bli/Desktop/JupiterProjects/JupiterLabs/Datasets/Adult.csv\"\n",
    "\n",
    "#Load the data using pandas read_csv function. This will generate a data frame we will use through the lab.\n",
    "Adult_data = pd.read_csv(Adult_data_path)\n",
    "\n",
    "#Show the first and last few records to check data is loading correctly\n",
    "print(Adult_data.head())\n",
    "print(Adult_data.tail())\n",
    "\n",
    "#Show distribution of the class on whole dataset\n",
    "sns.countplot(x= 'income', data=Adult_data)\n",
    "plt.show()"
   ]
  },
  {
   "cell_type": "markdown",
   "metadata": {},
   "source": [
    "As in the previous lab, we specify the columns which are: \"age\", \"workclass\", \"fnlwgt\", \"education\",  \"educational-num\", \"marital-status\", \"occupation\", \"relationship\", \"race\", \"gender\", \"capital-gain\", \"capital-loss\", \"hours-per-week\", \"native-country\"."
   ]
  },
  {
   "cell_type": "code",
   "execution_count": 6,
   "metadata": {},
   "outputs": [],
   "source": [
    "COLUMNS = [\"age\", \"workclass\", \"fnlwgt\", \"education\",  \"educational-num\",\n",
    "           \"marital-status\", \"occupation\", \"relationship\", \"race\", \"gender\",\n",
    "           \"capital-gain\", \"capital-loss\", \"hours-per-week\", \"native-country\"]"
   ]
  },
  {
   "cell_type": "markdown",
   "metadata": {},
   "source": [
    "We will also specify two lists,  one which contains the __categorical columns__, and one which contains the __numeric columns__ of interest.   The categorical columns of interest are: \"workclass\", \"education\", \"marital-status\", \"occupation\",\"relationship\", \"race\", \"gender\", \"native-country\".  The numeric columns are: \"age\", \"education-num\", \"capital-gain\", \"capital-loss\", \"hours-per-week\". We will exclude _fnlwgt_ as it is not a particularly useful variable and we will see this soon. "
   ]
  },
  {
   "cell_type": "code",
   "execution_count": 8,
   "metadata": {},
   "outputs": [],
   "source": [
    "CATEGORICAL_COLUMNS = [\"workclass\", \"education\", \"marital-status\", \"occupation\",\n",
    "                       \"relationship\", \"race\", \"gender\", \"native-country\"]\n",
    "CONTINUOUS_COLUMNS = [\"age\", \"educational-num\", \"capital-gain\", \"capital-loss\",\n",
    "                      \"hours-per-week\"]"
   ]
  },
  {
   "cell_type": "markdown",
   "metadata": {},
   "source": [
    "We can start by creating a `boxplot` of the `adult_data` (which will include the numeric variables only in it by default. What can we see in it?  Is there any problematic variables? "
   ]
  },
  {
   "cell_type": "code",
   "execution_count": 10,
   "metadata": {},
   "outputs": [
    {
     "data": {
      "image/png": "[encoded data removed]",
      "text/plain": [
       "<Figure size 800x600 with 1 Axes>"
      ]
     },
     "metadata": {},
     "output_type": "display_data"
    }
   ],
   "source": [
    "plt.figure(figsize=(8,6))\n",
    "sns.boxplot(data=Adult_data)\n",
    "plt.show()"
   ]
  },
  {
   "cell_type": "markdown",
   "metadata": {},
   "source": [
    "We can now designate our X or input variables.   Once assigned look at the `.head()` of X. "
   ]
  },
  {
   "cell_type": "code",
   "execution_count": 12,
   "metadata": {},
   "outputs": [
    {
     "data": {
      "text/html": [
       "<div>\n",
       "<style scoped>\n",
       "    .dataframe tbody tr th:only-of-type {\n",
       "        vertical-align: middle;\n",
       "    }\n",
       "\n",
       "    .dataframe tbody tr th {\n",
       "        vertical-align: top;\n",
       "    }\n",
       "\n",
       "    .dataframe thead th {\n",
       "        text-align: right;\n",
       "    }\n",
       "</style>\n",
       "<table border=\"1\" class=\"dataframe\">\n",
       "  <thead>\n",
       "    <tr style=\"text-align: right;\">\n",
       "      <th></th>\n",
       "      <th>age</th>\n",
       "      <th>workclass</th>\n",
       "      <th>fnlwgt</th>\n",
       "      <th>education</th>\n",
       "      <th>educational-num</th>\n",
       "      <th>marital-status</th>\n",
       "      <th>occupation</th>\n",
       "      <th>relationship</th>\n",
       "      <th>race</th>\n",
       "      <th>gender</th>\n",
       "      <th>capital-gain</th>\n",
       "      <th>capital-loss</th>\n",
       "      <th>hours-per-week</th>\n",
       "      <th>native-country</th>\n",
       "    </tr>\n",
       "  </thead>\n",
       "  <tbody>\n",
       "    <tr>\n",
       "      <th>0</th>\n",
       "      <td>25</td>\n",
       "      <td>Private</td>\n",
       "      <td>226802</td>\n",
       "      <td>11th</td>\n",
       "      <td>7</td>\n",
       "      <td>Never-married</td>\n",
       "      <td>Machine-op-inspct</td>\n",
       "      <td>Own-child</td>\n",
       "      <td>Black</td>\n",
       "      <td>Male</td>\n",
       "      <td>0</td>\n",
       "      <td>0</td>\n",
       "      <td>40</td>\n",
       "      <td>United-States</td>\n",
       "    </tr>\n",
       "    <tr>\n",
       "      <th>1</th>\n",
       "      <td>38</td>\n",
       "      <td>Private</td>\n",
       "      <td>89814</td>\n",
       "      <td>HS-grad</td>\n",
       "      <td>9</td>\n",
       "      <td>Married-civ-spouse</td>\n",
       "      <td>Farming-fishing</td>\n",
       "      <td>Husband</td>\n",
       "      <td>White</td>\n",
       "      <td>Male</td>\n",
       "      <td>0</td>\n",
       "      <td>0</td>\n",
       "      <td>50</td>\n",
       "      <td>United-States</td>\n",
       "    </tr>\n",
       "    <tr>\n",
       "      <th>2</th>\n",
       "      <td>28</td>\n",
       "      <td>Local-gov</td>\n",
       "      <td>336951</td>\n",
       "      <td>Assoc-acdm</td>\n",
       "      <td>12</td>\n",
       "      <td>Married-civ-spouse</td>\n",
       "      <td>Protective-serv</td>\n",
       "      <td>Husband</td>\n",
       "      <td>White</td>\n",
       "      <td>Male</td>\n",
       "      <td>0</td>\n",
       "      <td>0</td>\n",
       "      <td>40</td>\n",
       "      <td>United-States</td>\n",
       "    </tr>\n",
       "    <tr>\n",
       "      <th>3</th>\n",
       "      <td>44</td>\n",
       "      <td>Private</td>\n",
       "      <td>160323</td>\n",
       "      <td>Some-college</td>\n",
       "      <td>10</td>\n",
       "      <td>Married-civ-spouse</td>\n",
       "      <td>Machine-op-inspct</td>\n",
       "      <td>Husband</td>\n",
       "      <td>Black</td>\n",
       "      <td>Male</td>\n",
       "      <td>7688</td>\n",
       "      <td>0</td>\n",
       "      <td>40</td>\n",
       "      <td>United-States</td>\n",
       "    </tr>\n",
       "    <tr>\n",
       "      <th>4</th>\n",
       "      <td>18</td>\n",
       "      <td>?</td>\n",
       "      <td>103497</td>\n",
       "      <td>Some-college</td>\n",
       "      <td>10</td>\n",
       "      <td>Never-married</td>\n",
       "      <td>?</td>\n",
       "      <td>Own-child</td>\n",
       "      <td>White</td>\n",
       "      <td>Female</td>\n",
       "      <td>0</td>\n",
       "      <td>0</td>\n",
       "      <td>30</td>\n",
       "      <td>United-States</td>\n",
       "    </tr>\n",
       "  </tbody>\n",
       "</table>\n",
       "</div>"
      ],
      "text/plain": [
       "   age  workclass  fnlwgt     education  educational-num      marital-status  \\\n",
       "0   25    Private  226802          11th                7       Never-married   \n",
       "1   38    Private   89814       HS-grad                9  Married-civ-spouse   \n",
       "2   28  Local-gov  336951    Assoc-acdm               12  Married-civ-spouse   \n",
       "3   44    Private  160323  Some-college               10  Married-civ-spouse   \n",
       "4   18          ?  103497  Some-college               10       Never-married   \n",
       "\n",
       "          occupation relationship   race  gender  capital-gain  capital-loss  \\\n",
       "0  Machine-op-inspct    Own-child  Black    Male             0             0   \n",
       "1    Farming-fishing      Husband  White    Male             0             0   \n",
       "2    Protective-serv      Husband  White    Male             0             0   \n",
       "3  Machine-op-inspct      Husband  Black    Male          7688             0   \n",
       "4                  ?    Own-child  White  Female             0             0   \n",
       "\n",
       "   hours-per-week native-country  \n",
       "0              40  United-States  \n",
       "1              50  United-States  \n",
       "2              40  United-States  \n",
       "3              40  United-States  \n",
       "4              30  United-States  "
      ]
     },
     "execution_count": 12,
     "metadata": {},
     "output_type": "execute_result"
    }
   ],
   "source": [
    "#Designate the continuous input features as X\n",
    "X= Adult_data[COLUMNS]\n",
    "X.head()"
   ]
  },
  {
   "cell_type": "markdown",
   "metadata": {},
   "source": [
    "Now designate the outcome or target variable as _y_ and look at the `.head() to see what we get."
   ]
  },
  {
   "cell_type": "code",
   "execution_count": 14,
   "metadata": {},
   "outputs": [
    {
     "data": {
      "text/plain": [
       "0    <=50K\n",
       "1    <=50K\n",
       "2     >50K\n",
       "3     >50K\n",
       "4    <=50K\n",
       "Name: income, dtype: object"
      ]
     },
     "execution_count": 14,
     "metadata": {},
     "output_type": "execute_result"
    }
   ],
   "source": [
    "#Designate the outcome or target variable as y\n",
    "y = Adult_data.income\n",
    "y.head()"
   ]
  },
  {
   "cell_type": "markdown",
   "metadata": {},
   "source": [
    "## Sampling (train/validation/test)\n",
    "\n",
    "First, let us divide the Adult dataset into train/validation/test partitions.  We first designated 20% for a test partition, call it _test_X_.  The remainder we can call _part1_X_ as a first partition to be later subdivided.  We then subdivide the partition _part1_X_ into train/validate.  For the second partition we will make we also designate 20% as the validation set. We will not use the test set until the final stage of testing the model, but we can use the validation set to test any intermediary decision as we later build models for classification.\n",
    "\n",
    "So we start by sampling and dividing the original X,y into the part1_X/test_X and part1_y/test_y with the `train_test_split` method and looking at each with the `describe()` method."
   ]
  },
  {
   "cell_type": "code",
   "execution_count": 16,
   "metadata": {},
   "outputs": [
    {
     "name": "stdout",
     "output_type": "stream",
     "text": [
      "                age        fnlwgt  educational-num  capital-gain  \\\n",
      "count  39073.000000  3.907300e+04     39073.000000  39073.000000   \n",
      "mean      38.616897  1.896882e+05        10.080030   1082.455455   \n",
      "std       13.692145  1.057538e+05         2.566702   7481.058262   \n",
      "min       17.000000  1.228500e+04         1.000000      0.000000   \n",
      "25%       28.000000  1.176810e+05         9.000000      0.000000   \n",
      "50%       37.000000  1.782720e+05        10.000000      0.000000   \n",
      "75%       48.000000  2.370910e+05        12.000000      0.000000   \n",
      "max       90.000000  1.490400e+06        16.000000  99999.000000   \n",
      "\n",
      "       capital-loss  hours-per-week  \n",
      "count  39073.000000    39073.000000  \n",
      "mean      87.110690       40.416707  \n",
      "std      401.391067       12.334570  \n",
      "min        0.000000        1.000000  \n",
      "25%        0.000000       40.000000  \n",
      "50%        0.000000       40.000000  \n",
      "75%        0.000000       45.000000  \n",
      "max     4356.000000       99.000000  \n",
      "               age        fnlwgt  educational-num  capital-gain  capital-loss  \\\n",
      "count  9769.000000  9.769000e+03      9769.000000   9769.000000   9769.000000   \n",
      "mean     38.750333  1.895679e+05        10.070324   1065.517351     89.068687   \n",
      "std      13.783908  1.050081e+05         2.588101   7335.084521    409.411466   \n",
      "min      17.000000  1.386200e+04         1.000000      0.000000      0.000000   \n",
      "25%      28.000000  1.166370e+05         9.000000      0.000000      0.000000   \n",
      "50%      37.000000  1.779070e+05        10.000000      0.000000      0.000000   \n",
      "75%      48.000000  2.388310e+05        12.000000      0.000000      0.000000   \n",
      "max      90.000000  1.210504e+06        16.000000  99999.000000   4356.000000   \n",
      "\n",
      "       hours-per-week  \n",
      "count     9769.000000  \n",
      "mean        40.445081  \n",
      "std         12.616974  \n",
      "min          1.000000  \n",
      "25%         40.000000  \n",
      "50%         40.000000  \n",
      "75%         45.000000  \n",
      "max         99.000000  \n",
      "income\n",
      "<=50K    37155\n",
      ">50K     11687\n",
      "Name: count, dtype: int64\n"
     ]
    }
   ],
   "source": [
    "from sklearn.model_selection import train_test_split\n",
    "\n",
    "# Without stratification divide into first partition and test set.\n",
    "part1_X,test_X, part1_y, test_y= train_test_split (X,y, test_size=0.2,random_state=1,stratify=y)\n",
    "\n",
    "print(part1_X.describe())\n",
    "print(test_X.describe())\n",
    "print(y.value_counts())"
   ]
  },
  {
   "cell_type": "markdown",
   "metadata": {},
   "source": [
    "Now we sample by dividing the _part1_X_ partition into a Train/Validation partition and we also inspect it with `.describe()`. We can compare _train_X, val_X and test_X_, the three sets we have obtained."
   ]
  },
  {
   "cell_type": "code",
   "execution_count": 18,
   "metadata": {},
   "outputs": [
    {
     "name": "stdout",
     "output_type": "stream",
     "text": [
      "Train set description \n",
      "                 age        fnlwgt  educational-num  capital-gain  \\\n",
      "count  31258.000000  3.125800e+04     31258.000000  31258.000000   \n",
      "mean      38.612611  1.895145e+05        10.071054   1082.968520   \n",
      "std       13.688964  1.054958e+05         2.563093   7532.413614   \n",
      "min       17.000000  1.228500e+04         1.000000      0.000000   \n",
      "25%       28.000000  1.177750e+05         9.000000      0.000000   \n",
      "50%       37.000000  1.779425e+05        10.000000      0.000000   \n",
      "75%       48.000000  2.369390e+05        12.000000      0.000000   \n",
      "max       90.000000  1.490400e+06        16.000000  99999.000000   \n",
      "\n",
      "       capital-loss  hours-per-week  \n",
      "count  31258.000000    31258.000000  \n",
      "mean      87.133054       40.360132  \n",
      "std      401.579757       12.336765  \n",
      "min        0.000000        1.000000  \n",
      "25%        0.000000       40.000000  \n",
      "50%        0.000000       40.000000  \n",
      "75%        0.000000       45.000000  \n",
      "max     4356.000000       99.000000  \n",
      "Validation set description \n",
      "                age        fnlwgt  educational-num  capital-gain  capital-loss  \\\n",
      "count  7815.000000  7.815000e+03      7815.000000   7815.000000   7815.000000   \n",
      "mean     38.634037  1.903828e+05        10.115931   1080.403327     87.021241   \n",
      "std      13.705724  1.067837e+05         2.580939   7272.496305    400.661117   \n",
      "min      17.000000  1.349200e+04         1.000000      0.000000      0.000000   \n",
      "25%      28.000000  1.172055e+05         9.000000      0.000000      0.000000   \n",
      "50%      37.000000  1.797080e+05        10.000000      0.000000      0.000000   \n",
      "75%      48.000000  2.376795e+05        13.000000      0.000000      0.000000   \n",
      "max      90.000000  1.125613e+06        16.000000  99999.000000   3900.000000   \n",
      "\n",
      "       hours-per-week  \n",
      "count     7815.000000  \n",
      "mean        40.642994  \n",
      "std         12.323979  \n",
      "min          1.000000  \n",
      "25%         40.000000  \n",
      "50%         40.000000  \n",
      "75%         45.000000  \n",
      "max         99.000000  \n",
      "Test set description \n",
      "                age        fnlwgt  educational-num  capital-gain  capital-loss  \\\n",
      "count  9769.000000  9.769000e+03      9769.000000   9769.000000   9769.000000   \n",
      "mean     38.750333  1.895679e+05        10.070324   1065.517351     89.068687   \n",
      "std      13.783908  1.050081e+05         2.588101   7335.084521    409.411466   \n",
      "min      17.000000  1.386200e+04         1.000000      0.000000      0.000000   \n",
      "25%      28.000000  1.166370e+05         9.000000      0.000000      0.000000   \n",
      "50%      37.000000  1.779070e+05        10.000000      0.000000      0.000000   \n",
      "75%      48.000000  2.388310e+05        12.000000      0.000000      0.000000   \n",
      "max      90.000000  1.210504e+06        16.000000  99999.000000   4356.000000   \n",
      "\n",
      "       hours-per-week  \n",
      "count     9769.000000  \n",
      "mean        40.445081  \n",
      "std         12.616974  \n",
      "min          1.000000  \n",
      "25%         40.000000  \n",
      "50%         40.000000  \n",
      "75%         45.000000  \n",
      "max         99.000000  \n",
      "income\n",
      "<=50K    5911\n",
      ">50K     1904\n",
      "Name: count, dtype: int64\n",
      "income\n",
      "<=50K    23813\n",
      ">50K      7445\n",
      "Name: count, dtype: int64\n"
     ]
    }
   ],
   "source": [
    "# Without stratification divide the first partition \n",
    "train_X,val_X, train_y, val_y= train_test_split (part1_X,part1_y, test_size=0.2,random_state=1)\n",
    "\n",
    "print(\"Train set description \\n\", train_X.describe())\n",
    "print(\"Validation set description \\n\",val_X.describe())\n",
    "print(\"Test set description \\n\",test_X.describe())\n",
    "print(val_y.value_counts())\n",
    "print(train_y.value_counts())"
   ]
  },
  {
   "cell_type": "markdown",
   "metadata": {},
   "source": [
    "## Outlier detection\n",
    "\n",
    "We start now looking at outliers. For the purpose of looking at outliers, let us consider the continous columns we have already defined only so X can be equal to the CONTINUOUS_COLUMNS of the data frame. We can create a new train_X wich we can call train_OL_X with the CONTINUOUS_COLUMNS only."
   ]
  },
  {
   "cell_type": "code",
   "execution_count": 20,
   "metadata": {},
   "outputs": [
    {
     "data": {
      "text/plain": [
       "(31258, 5)"
      ]
     },
     "execution_count": 20,
     "metadata": {},
     "output_type": "execute_result"
    }
   ],
   "source": [
    "#Designate the continuous input features as train_OL_X\n",
    "train_OL_X= train_X[CONTINUOUS_COLUMNS]\n",
    "train_OL_X.shape"
   ]
  },
  {
   "cell_type": "markdown",
   "metadata": {},
   "source": [
    "## Outlier detection\n",
    "\n",
    "We now try to detect outliers, first with the DBSCAN algorithm.  Since this file is rather large we do not print the objects with their allocation (outliers designated as -1, or not outliers) but we can print the total number of outliers found.  We can also alter the parameters `min_samples` and `eps` to see the effect on the outliers detected. Once you have the code working, experiment with the algorithm parameters to get a not too large number of outliers. We can apply this on the train data only, but to the one with continous columns, i.e. train_OL_X."
   ]
  },
  {
   "cell_type": "code",
   "execution_count": 22,
   "metadata": {},
   "outputs": [
    {
     "name": "stdout",
     "output_type": "stream",
     "text": [
      "Total number of outliers identified is:  548\n"
     ]
    }
   ],
   "source": [
    "#import the implementation of this algorihm from sklearn\n",
    "from sklearn.cluster import DBSCAN\n",
    "\n",
    "#Use the algorithm for outlier detection, the retun in clusters will show the membership of each point\n",
    "#Any point labelled as -1 is an outlier\n",
    "\n",
    "outlier_detection = DBSCAN(min_samples = 3, eps = 10)\n",
    "clusters = outlier_detection.fit_predict(train_OL_X)\n",
    "\n",
    "#Count total number of outliers as count of those labelled as -1\n",
    "TotalOutliers=list(clusters).count(-1)\n",
    "#print (clusters)\n",
    "print(\"Total number of outliers identified is: \",TotalOutliers)"
   ]
  },
  {
   "cell_type": "markdown",
   "metadata": {},
   "source": [
    "We can now create a mask or filter to ensure only those rows that are not outliers are retained in a new data frame that we can later use for classification.  Let us create a new output variable _y1_ and input set of variables _X1_ which contain a filtered version of the original data frame. For this, we can create a mask which takes the value of `clusters!= -1`.  This will be a boolean array which we can then use to filter _y_ into a new version _y1_, and similarly _X_ into a new version _X1_.  Check the shape of the new X and y with `.shape` to see the size of each. The amount of rows should be equal to the rows in the original data frame minus the rows that were designated as outliers. Note that we need to filter the data frame that contains all the columns (_train_X, train_y_), and not just the numeric ones, as all columns will be needed for the classification algorithms."
   ]
  },
  {
   "cell_type": "code",
   "execution_count": 24,
   "metadata": {},
   "outputs": [
    {
     "name": "stdout",
     "output_type": "stream",
     "text": [
      "(30710,)\n",
      "(30710, 14)\n"
     ]
    }
   ],
   "source": [
    "# select all rows that are not outliers and create a boolean mask\n",
    "mask = clusters != -1\n",
    "# Apply mask to y and check shape\n",
    "y1= train_y[mask]\n",
    "print (y1.shape)\n",
    "\n",
    "#Apply mask to X and check shape \n",
    "X1=train_X[mask]\n",
    "print(X1.shape)"
   ]
  },
  {
   "cell_type": "markdown",
   "metadata": {},
   "source": [
    "Let us now do similarly but using the `IsolationForest` algorithm.  Again, investigate the parameters to understand how many outliers are found as we change those paramaters."
   ]
  },
  {
   "cell_type": "code",
   "execution_count": 26,
   "metadata": {},
   "outputs": [
    {
     "name": "stdout",
     "output_type": "stream",
     "text": [
      "Total number of outliers identified is:  313\n"
     ]
    }
   ],
   "source": [
    "#import the implementation of this algorihm from sklearn\n",
    "from sklearn.ensemble import IsolationForest\n",
    "\n",
    "#Use the algorithm for outlier detection, then use it to predict each point\n",
    "#Any point labelled as -1 is an outlier\n",
    "clf = IsolationForest(max_samples=31258, random_state = 1, contamination= 0.01)\n",
    "preds = clf.fit_predict(train_OL_X)\n",
    "#print(preds)\n",
    "totalOutliers=0\n",
    "for pred in preds:\n",
    "    if pred == -1:\n",
    "        totalOutliers=totalOutliers+1\n",
    "print(\"Total number of outliers identified is: \",totalOutliers)\n"
   ]
  },
  {
   "cell_type": "markdown",
   "metadata": {},
   "source": [
    "Again, we can create a mask or filter to ensure only those rows that are not outliers are retained in a new data frame that we can later use for classification.  Let us create a new output variable _y2_ and input set of variables _X2_ which contain a filtered version of the original data frame, this time with the isolation algorithm filter. For this, we can create a mask which takes the value of `preds!= -1`.  This will be a boolean array which we can then use to filter _train_y_ into a new version _y2_, and similarly _Train_X_ into a new version _X2_.  Again check the shape of the new X and y with `.shape` to see the size of each. "
   ]
  },
  {
   "cell_type": "code",
   "execution_count": 28,
   "metadata": {},
   "outputs": [
    {
     "name": "stdout",
     "output_type": "stream",
     "text": [
      "(30945,)\n",
      "(30945, 14)\n"
     ]
    }
   ],
   "source": [
    "# select all rows that are not outliers and create a boolean mask\n",
    "mask = preds != -1\n",
    "# Apply mask to y and check shape\n",
    "y2= train_y[mask]\n",
    "print (y2.shape)\n",
    "\n",
    "#Apply mask to X and check shape \n",
    "X2=train_X[mask]\n",
    "print(X2.shape)"
   ]
  },
  {
   "cell_type": "markdown",
   "metadata": {},
   "source": [
    "Finally, we can try to run the LocalOutlierFactor algorithm on the Adult data.  Once this is done, if you wish to visualise the outliers, you could produce a graph similar to the one produced in the _CleaningExamples_ lab, but this time plot for example _age_ versus _educational_num_ (columns 0 and 1). You may not need to use limits on the x and y axis for this plot, or you will need to adapt them to the right values. "
   ]
  },
  {
   "cell_type": "code",
   "execution_count": 30,
   "metadata": {},
   "outputs": [
    {
     "name": "stdout",
     "output_type": "stream",
     "text": [
      "Number of predicted outliers: 313\n"
     ]
    },
    {
     "data": {
      "image/png": "[encoded data removed]",
      "text/plain": [
       "<Figure size 1200x800 with 1 Axes>"
      ]
     },
     "metadata": {},
     "output_type": "display_data"
    }
   ],
   "source": [
    "from sklearn.neighbors import LocalOutlierFactor\n",
    "np.random.seed(42)\n",
    "\n",
    "# fit the model for outlier detection (default)\n",
    "clf = LocalOutlierFactor(n_neighbors=20, contamination=0.01)\n",
    "\n",
    "# use fit_predict to compute the predicted labels of the training samples\n",
    "# (when LOF is used for outlier detection, the estimator has no predict,\n",
    "# decision_function and score_samples methods).\n",
    "y_pred = clf.fit_predict(train_OL_X)\n",
    "\n",
    "#print (\"Predicted outliers: \\n\",y_pred)\n",
    "\n",
    "#Calculate number of outliers\n",
    "outlierN = len([i for i in y_pred if i == -1])\n",
    "print (\"Number of predicted outliers:\",outlierN)\n",
    "\n",
    "\n",
    "#Let us see graphically how the outliers are identified\n",
    "#Use outlier scores calculated by the algorithm to plot a circle around the outlier proportional to score.\n",
    "\n",
    "X_scores = clf.negative_outlier_factor_\n",
    "\n",
    "plt.figure(figsize=(12,8))\n",
    "plt.title(\"Local Outlier Factor (LOF)\")\n",
    "\n",
    "#Convert the df to an array for the purpose of the scatterplot\n",
    "Xol = train_OL_X.to_numpy()\n",
    "\n",
    "#Use scatter \n",
    "plt.scatter(Xol[:, 0], Xol[:, 1], color='k', s=3, label='Data points')\n",
    "\n",
    "# plot circles with radius proportional to the outlier scores\n",
    "radius = (X_scores.max() - X_scores) / (X_scores.max() - X_scores.min())\n",
    "plt.scatter(Xol[:, 0], Xol[:, 1], s=500 * radius, edgecolors='r',\n",
    "            facecolors='none', label='Outlier scores')\n",
    "plt.axis('tight')\n",
    "#plt.xlim((0, 14))\n",
    "#plt.ylim((0, 6))\n",
    "plt.xlabel(\"N. Outliers: %d\" % (outlierN))\n",
    "legend = plt.legend(loc='upper left')\n",
    "plt.show()"
   ]
  },
  {
   "cell_type": "markdown",
   "metadata": {},
   "source": [
    "Again, we filter to ensure only those rows that are not outliers are retained in a new data frame that we can later use for classification.  Let us create a new output variable _y3_ and input set of variables _X3_ which contain a filtered version of the original data frame, this time with the LOF algorithm filter, similar to the previous to cells. "
   ]
  },
  {
   "cell_type": "code",
   "execution_count": 32,
   "metadata": {},
   "outputs": [
    {
     "name": "stdout",
     "output_type": "stream",
     "text": [
      "(30945,)\n",
      "(30945, 14)\n"
     ]
    }
   ],
   "source": [
    "# select all rows that are not outliers and create a boolean mask\n",
    "mask = y_pred != -1\n",
    "# Apply mask to y and check shape\n",
    "y3= train_y[mask]\n",
    "print (y3.shape)\n",
    "\n",
    "#Apply mask to X and check shape \n",
    "X3=train_X[mask]\n",
    "print(X3.shape)"
   ]
  },
  {
   "cell_type": "markdown",
   "metadata": {},
   "source": [
    "If you wish to save any of the dataframes you have created to load them elsewhere you can do that with the `.to_csv()` method.  You can pass inside as parameters the path and file name and `index = False` if you don't wish to save the index.  Alternatively, you can repeat the code above to get the data frame in a later lab."
   ]
  },
  {
   "cell_type": "code",
   "execution_count": 34,
   "metadata": {},
   "outputs": [],
   "source": [
    "#Save X1 to a file for later use if necessary\n",
    "X1.to_csv(\"/Users/bli/Desktop/JupiterProjects/JupiterLabs/Datasets/X1.csv\", index = False)"
   ]
  },
  {
   "cell_type": "markdown",
   "metadata": {},
   "source": [
    "## Balancing of the data\n",
    "\n",
    "Now we will practice balancing the data.  We can apply balancing operations to the original training data, or we could apply it to any of the versions with outliers removed if we later decided that removing the outliers may be beneficial.  Let us use the original training data ignoring outlier removal for the time being. We can start by producing a count of how many rows are there for each label using the `value_counts()` method on the _train_y_ series."
   ]
  },
  {
   "cell_type": "code",
   "execution_count": 36,
   "metadata": {},
   "outputs": [
    {
     "data": {
      "text/plain": [
       "income\n",
       "<=50K    23813\n",
       ">50K      7445\n",
       "Name: count, dtype: int64"
      ]
     },
     "execution_count": 36,
     "metadata": {},
     "output_type": "execute_result"
    }
   ],
   "source": [
    "train_y.value_counts()"
   ]
  },
  {
   "cell_type": "markdown",
   "metadata": {},
   "source": [
    "Now we will try to produce a balanced sample but instead of doing it from the whole file, as we do not want to balance the test data, we wil do it from the training data only, the _train_X_ data frame. First we need to concatanate the X and y part of the training data to apply balancing.  We can separate again later.   We can start by trying to upsample the minority class so they both have an equal number of samples.  We can look at the statistics of the upsampled data, together with the new value counts."
   ]
  },
  {
   "cell_type": "code",
   "execution_count": 38,
   "metadata": {},
   "outputs": [
    {
     "name": "stdout",
     "output_type": "stream",
     "text": [
      "                age        fnlwgt  educational-num  capital-gain  \\\n",
      "count  47618.000000  4.761800e+04     47618.000000  47618.000000   \n",
      "mean      40.551073  1.893546e+05        10.598156   2201.618842   \n",
      "std       12.970383  1.043713e+05         2.610676  11059.007007   \n",
      "min       17.000000  1.228500e+04         1.000000      0.000000   \n",
      "25%       31.000000  1.185510e+05         9.000000      0.000000   \n",
      "50%       40.000000  1.776750e+05        10.000000      0.000000   \n",
      "75%       49.000000  2.357860e+05        13.000000      0.000000   \n",
      "max       90.000000  1.490400e+06        16.000000  99999.000000   \n",
      "\n",
      "       capital-loss  hours-per-week  \n",
      "count  47618.000000    47618.000000  \n",
      "mean     122.499538       42.068945  \n",
      "std      476.053557       12.024662  \n",
      "min        0.000000        1.000000  \n",
      "25%        0.000000       40.000000  \n",
      "50%        0.000000       40.000000  \n",
      "75%        0.000000       50.000000  \n",
      "max     4356.000000       99.000000  \n"
     ]
    },
    {
     "data": {
      "text/plain": [
       "income\n",
       "<=50K    23813\n",
       ">50K     23805\n",
       "Name: count, dtype: int64"
      ]
     },
     "execution_count": 38,
     "metadata": {},
     "output_type": "execute_result"
    }
   ],
   "source": [
    "from sklearn.utils import resample\n",
    "\n",
    "#The first thing is contatenate our training data back together.  \n",
    "resampling = train_X.copy()\n",
    "resampling['income']= train_y.values\n",
    "\n",
    "# separate minority and majority classes\n",
    "majority_class = resampling[resampling['income']=='<=50K']\n",
    "minority_class = resampling[resampling['income']=='>50K']\n",
    "\n",
    "# Upsample minority class\n",
    "minority_upsampled = resample(minority_class, \n",
    "                                 replace=True,     # sample with replacement\n",
    "                                 n_samples=23805,     # to match majority class\n",
    "                                 random_state=123) # reproducible results\n",
    "\n",
    "# Combine majority class with upsampled minority class\n",
    "upsampled = pd.concat([majority_class, minority_upsampled])\n",
    "\n",
    "# Show dataset statistics\n",
    "print(upsampled.describe())\n",
    " \n",
    "# Display new class counts\n",
    "upsampled.income.value_counts()\n",
    "\n"
   ]
  },
  {
   "cell_type": "markdown",
   "metadata": {},
   "source": [
    "We may now want to produce another `countplot` to compare the class imbalance."
   ]
  },
  {
   "cell_type": "code",
   "execution_count": 40,
   "metadata": {},
   "outputs": [
    {
     "data": {
      "text/plain": [
       "<Axes: xlabel='income', ylabel='count'>"
      ]
     },
     "execution_count": 40,
     "metadata": {},
     "output_type": "execute_result"
    },
    {
     "data": {
      "image/png": "[encoded data removed]",
      "text/plain": [
       "<Figure size 640x480 with 1 Axes>"
      ]
     },
     "metadata": {},
     "output_type": "display_data"
    }
   ],
   "source": [
    "#Show distribution of the class on whole dataset\n",
    "sns.countplot(x= 'income', data=upsampled)"
   ]
  },
  {
   "cell_type": "markdown",
   "metadata": {},
   "source": [
    "Additionally, we may produce a `stripplot` to understand how the data was distributed for the two classes in the original data frame, _Adult_data_ and then another one for how it is distributed in the new upsampled data for comparison. "
   ]
  },
  {
   "cell_type": "code",
   "execution_count": 42,
   "metadata": {},
   "outputs": [
    {
     "data": {
      "image/png": "[encoded data removed]",
      "text/plain": [
       "<Figure size 640x480 with 1 Axes>"
      ]
     },
     "metadata": {},
     "output_type": "display_data"
    }
   ],
   "source": [
    "sns.stripplot(x=Adult_data['income'],y=Adult_data['age'],data=Adult_data, jitter=0.3)\n",
    "sns.despine()"
   ]
  },
  {
   "cell_type": "code",
   "execution_count": 43,
   "metadata": {
    "scrolled": true
   },
   "outputs": [
    {
     "data": {
      "image/png": "[encoded data removed]",
      "text/plain": [
       "<Figure size 640x480 with 1 Axes>"
      ]
     },
     "metadata": {},
     "output_type": "display_data"
    }
   ],
   "source": [
    "sns.stripplot(x=upsampled['income'],y=upsampled['age'],data=upsampled, jitter=0.3)\n",
    "sns.despine()"
   ]
  },
  {
   "cell_type": "markdown",
   "metadata": {},
   "source": [
    "Now, we do similarly, but this time we downsample the majority class to produce a reduced balanced dataset.  We look at value counts and after we can produce a `countplot` to look at the distribution of values in the classes."
   ]
  },
  {
   "cell_type": "code",
   "execution_count": 45,
   "metadata": {},
   "outputs": [
    {
     "data": {
      "text/plain": [
       "income\n",
       "<=50K    7453\n",
       ">50K     7445\n",
       "Name: count, dtype: int64"
      ]
     },
     "execution_count": 45,
     "metadata": {},
     "output_type": "execute_result"
    }
   ],
   "source": [
    "# Downsample majority class\n",
    "majority_downsampled = resample(majority_class, \n",
    "                                 replace=False,    # sample without replacement\n",
    "                                 n_samples=7453,     # to match minority class\n",
    "                                 random_state=123) # reproducible results\n",
    "    \n",
    "# Combine minority class with downsampled majority class\n",
    "downsampled = pd.concat([majority_downsampled, minority_class])\n",
    " \n",
    "# Display new class counts\n",
    "downsampled.income.value_counts()"
   ]
  },
  {
   "cell_type": "code",
   "execution_count": 46,
   "metadata": {},
   "outputs": [
    {
     "data": {
      "text/plain": [
       "<Axes: xlabel='income', ylabel='count'>"
      ]
     },
     "execution_count": 46,
     "metadata": {},
     "output_type": "execute_result"
    },
    {
     "data": {
      "image/png": "[encoded data removed]",
      "text/plain": [
       "<Figure size 640x480 with 1 Axes>"
      ]
     },
     "metadata": {},
     "output_type": "display_data"
    }
   ],
   "source": [
    "#Show distribution of the class on whole dataset\n",
    "sns.countplot(x= 'income', data=downsampled)"
   ]
  },
  {
   "cell_type": "markdown",
   "metadata": {},
   "source": [
    "Again a `stripplot` can show the distribution of points within the classes in the downsampled data frame."
   ]
  },
  {
   "cell_type": "code",
   "execution_count": 48,
   "metadata": {},
   "outputs": [
    {
     "data": {
      "image/png": "[encoded data removed]",
      "text/plain": [
       "<Figure size 640x480 with 1 Axes>"
      ]
     },
     "metadata": {},
     "output_type": "display_data"
    }
   ],
   "source": [
    "sns.stripplot(x=downsampled['income'],y=downsampled['age'],data=downsampled, jitter=0.3)\n",
    "sns.despine()"
   ]
  },
  {
   "cell_type": "markdown",
   "metadata": {},
   "source": [
    "Now you could chose to use either your dowsampled or upsampled training data as the data to classify.  For this you will need to divide the _X_ part (decision variables) from the _y_ part (target variable), before feeding to any classification algorithms. Attempt that for the upsampled data. "
   ]
  },
  {
   "cell_type": "code",
   "execution_count": 50,
   "metadata": {},
   "outputs": [
    {
     "name": "stdout",
     "output_type": "stream",
     "text": [
      "       age  workclass  fnlwgt     education  educational-num  \\\n",
      "34460   26    Private  152452     Bachelors               13   \n",
      "23865   19          ?  204441       HS-grad                9   \n",
      "9089    29          ?  225654       HS-grad                9   \n",
      "19990   41  Local-gov  343079     Bachelors               13   \n",
      "24528   43  Local-gov  311914  Some-college               10   \n",
      "\n",
      "           marital-status      occupation    relationship   race  gender  \\\n",
      "34460  Married-civ-spouse    Tech-support         Husband  White    Male   \n",
      "23865       Never-married               ?  Other-relative  Black    Male   \n",
      "9089        Never-married               ?   Not-in-family  Black    Male   \n",
      "19990  Married-civ-spouse  Prof-specialty            Wife  White  Female   \n",
      "24528            Divorced    Adm-clerical   Not-in-family  White  Female   \n",
      "\n",
      "       capital-gain  capital-loss  hours-per-week native-country  \n",
      "34460             0             0              50  United-States  \n",
      "23865             0             0              20  United-States  \n",
      "9089              0             0              40  United-States  \n",
      "19990             0          1740              20  United-States  \n",
      "24528             0             0              40  United-States  \n",
      "Shape of training data: (47618, 14) \n",
      "\n",
      "34460    <=50K\n",
      "23865    <=50K\n",
      "9089     <=50K\n",
      "19990    <=50K\n",
      "24528    <=50K\n",
      "Name: income, dtype: object\n",
      "Shape of training data: (47618,) \n",
      "\n"
     ]
    }
   ],
   "source": [
    "#Designate the continuous input features as X\n",
    "upsampled_X=upsampled[COLUMNS]\n",
    "print(upsampled_X.head())\n",
    "print(\"Shape of training data:\",upsampled_X.shape,\"\\n\")\n",
    "\n",
    "#Designate the outcome or target variable as y\n",
    "upsampled_y = upsampled.income\n",
    "print(upsampled_y.head())\n",
    "print(\"Shape of training data:\",upsampled_y.shape,\"\\n\")"
   ]
  },
  {
   "cell_type": "markdown",
   "metadata": {},
   "source": [
    "## Missing data\n",
    "\n",
    "Now we will get to deal with missing data. First thing is to understand how missing data, if there is any, is represented in the dataset we are looking at. The distribution graphs we did in the previous lab for the Adult data frame showed that _occupation_, _workclass_ and _native_country_ appeared to have missing values represented as '?'.  We can start by replacing all values of _'?'_ in the data frame with _nan_, the representation of missing data in _numpy_. For this  the `.replace()` method can be used with the first parameter being what we want to replace, i.e. '?' and the second being what we want to replace it with, i.e. _nan_.  We need to make missing data consistently represented in the whole dataset so we apply this to the _Adult_data_ data frame."
   ]
  },
  {
   "cell_type": "code",
   "execution_count": 52,
   "metadata": {},
   "outputs": [],
   "source": [
    "from numpy import nan\n",
    "Adult_data = Adult_data.replace('?', nan)"
   ]
  },
  {
   "cell_type": "markdown",
   "metadata": {},
   "source": [
    "Now, we can count how many missing (i.e. nan) numbers there are in the data frame as a whole. Then how many there are in each column or variable."
   ]
  },
  {
   "cell_type": "code",
   "execution_count": 54,
   "metadata": {},
   "outputs": [
    {
     "name": "stdout",
     "output_type": "stream",
     "text": [
      "age                   0\n",
      "workclass          2799\n",
      "fnlwgt                0\n",
      "education             0\n",
      "educational-num       0\n",
      "marital-status        0\n",
      "occupation         2809\n",
      "relationship          0\n",
      "race                  0\n",
      "gender                0\n",
      "capital-gain          0\n",
      "capital-loss          0\n",
      "hours-per-week        0\n",
      "native-country      857\n",
      "income                0\n",
      "dtype: int64\n"
     ]
    }
   ],
   "source": [
    "# get the number of missing data points per column\n",
    "missing_values_count = Adult_data.isnull().sum()\n",
    "\n",
    "# look at the # of missing points in the  columns\n",
    "print(missing_values_count[0:15])\n"
   ]
  },
  {
   "cell_type": "markdown",
   "metadata": {},
   "source": [
    "We now start by removing all rows that contain a missing value.  How many rows are left?"
   ]
  },
  {
   "cell_type": "code",
   "execution_count": 56,
   "metadata": {},
   "outputs": [
    {
     "data": {
      "text/html": [
       "<div>\n",
       "<style scoped>\n",
       "    .dataframe tbody tr th:only-of-type {\n",
       "        vertical-align: middle;\n",
       "    }\n",
       "\n",
       "    .dataframe tbody tr th {\n",
       "        vertical-align: top;\n",
       "    }\n",
       "\n",
       "    .dataframe thead th {\n",
       "        text-align: right;\n",
       "    }\n",
       "</style>\n",
       "<table border=\"1\" class=\"dataframe\">\n",
       "  <thead>\n",
       "    <tr style=\"text-align: right;\">\n",
       "      <th></th>\n",
       "      <th>age</th>\n",
       "      <th>workclass</th>\n",
       "      <th>fnlwgt</th>\n",
       "      <th>education</th>\n",
       "      <th>educational-num</th>\n",
       "      <th>marital-status</th>\n",
       "      <th>occupation</th>\n",
       "      <th>relationship</th>\n",
       "      <th>race</th>\n",
       "      <th>gender</th>\n",
       "      <th>capital-gain</th>\n",
       "      <th>capital-loss</th>\n",
       "      <th>hours-per-week</th>\n",
       "      <th>native-country</th>\n",
       "      <th>income</th>\n",
       "    </tr>\n",
       "  </thead>\n",
       "  <tbody>\n",
       "    <tr>\n",
       "      <th>0</th>\n",
       "      <td>25</td>\n",
       "      <td>Private</td>\n",
       "      <td>226802</td>\n",
       "      <td>11th</td>\n",
       "      <td>7</td>\n",
       "      <td>Never-married</td>\n",
       "      <td>Machine-op-inspct</td>\n",
       "      <td>Own-child</td>\n",
       "      <td>Black</td>\n",
       "      <td>Male</td>\n",
       "      <td>0</td>\n",
       "      <td>0</td>\n",
       "      <td>40</td>\n",
       "      <td>United-States</td>\n",
       "      <td>&lt;=50K</td>\n",
       "    </tr>\n",
       "    <tr>\n",
       "      <th>1</th>\n",
       "      <td>38</td>\n",
       "      <td>Private</td>\n",
       "      <td>89814</td>\n",
       "      <td>HS-grad</td>\n",
       "      <td>9</td>\n",
       "      <td>Married-civ-spouse</td>\n",
       "      <td>Farming-fishing</td>\n",
       "      <td>Husband</td>\n",
       "      <td>White</td>\n",
       "      <td>Male</td>\n",
       "      <td>0</td>\n",
       "      <td>0</td>\n",
       "      <td>50</td>\n",
       "      <td>United-States</td>\n",
       "      <td>&lt;=50K</td>\n",
       "    </tr>\n",
       "    <tr>\n",
       "      <th>2</th>\n",
       "      <td>28</td>\n",
       "      <td>Local-gov</td>\n",
       "      <td>336951</td>\n",
       "      <td>Assoc-acdm</td>\n",
       "      <td>12</td>\n",
       "      <td>Married-civ-spouse</td>\n",
       "      <td>Protective-serv</td>\n",
       "      <td>Husband</td>\n",
       "      <td>White</td>\n",
       "      <td>Male</td>\n",
       "      <td>0</td>\n",
       "      <td>0</td>\n",
       "      <td>40</td>\n",
       "      <td>United-States</td>\n",
       "      <td>&gt;50K</td>\n",
       "    </tr>\n",
       "    <tr>\n",
       "      <th>3</th>\n",
       "      <td>44</td>\n",
       "      <td>Private</td>\n",
       "      <td>160323</td>\n",
       "      <td>Some-college</td>\n",
       "      <td>10</td>\n",
       "      <td>Married-civ-spouse</td>\n",
       "      <td>Machine-op-inspct</td>\n",
       "      <td>Husband</td>\n",
       "      <td>Black</td>\n",
       "      <td>Male</td>\n",
       "      <td>7688</td>\n",
       "      <td>0</td>\n",
       "      <td>40</td>\n",
       "      <td>United-States</td>\n",
       "      <td>&gt;50K</td>\n",
       "    </tr>\n",
       "    <tr>\n",
       "      <th>5</th>\n",
       "      <td>34</td>\n",
       "      <td>Private</td>\n",
       "      <td>198693</td>\n",
       "      <td>10th</td>\n",
       "      <td>6</td>\n",
       "      <td>Never-married</td>\n",
       "      <td>Other-service</td>\n",
       "      <td>Not-in-family</td>\n",
       "      <td>White</td>\n",
       "      <td>Male</td>\n",
       "      <td>0</td>\n",
       "      <td>0</td>\n",
       "      <td>30</td>\n",
       "      <td>United-States</td>\n",
       "      <td>&lt;=50K</td>\n",
       "    </tr>\n",
       "    <tr>\n",
       "      <th>...</th>\n",
       "      <td>...</td>\n",
       "      <td>...</td>\n",
       "      <td>...</td>\n",
       "      <td>...</td>\n",
       "      <td>...</td>\n",
       "      <td>...</td>\n",
       "      <td>...</td>\n",
       "      <td>...</td>\n",
       "      <td>...</td>\n",
       "      <td>...</td>\n",
       "      <td>...</td>\n",
       "      <td>...</td>\n",
       "      <td>...</td>\n",
       "      <td>...</td>\n",
       "      <td>...</td>\n",
       "    </tr>\n",
       "    <tr>\n",
       "      <th>48837</th>\n",
       "      <td>27</td>\n",
       "      <td>Private</td>\n",
       "      <td>257302</td>\n",
       "      <td>Assoc-acdm</td>\n",
       "      <td>12</td>\n",
       "      <td>Married-civ-spouse</td>\n",
       "      <td>Tech-support</td>\n",
       "      <td>Wife</td>\n",
       "      <td>White</td>\n",
       "      <td>Female</td>\n",
       "      <td>0</td>\n",
       "      <td>0</td>\n",
       "      <td>38</td>\n",
       "      <td>United-States</td>\n",
       "      <td>&lt;=50K</td>\n",
       "    </tr>\n",
       "    <tr>\n",
       "      <th>48838</th>\n",
       "      <td>40</td>\n",
       "      <td>Private</td>\n",
       "      <td>154374</td>\n",
       "      <td>HS-grad</td>\n",
       "      <td>9</td>\n",
       "      <td>Married-civ-spouse</td>\n",
       "      <td>Machine-op-inspct</td>\n",
       "      <td>Husband</td>\n",
       "      <td>White</td>\n",
       "      <td>Male</td>\n",
       "      <td>0</td>\n",
       "      <td>0</td>\n",
       "      <td>40</td>\n",
       "      <td>United-States</td>\n",
       "      <td>&gt;50K</td>\n",
       "    </tr>\n",
       "    <tr>\n",
       "      <th>48839</th>\n",
       "      <td>58</td>\n",
       "      <td>Private</td>\n",
       "      <td>151910</td>\n",
       "      <td>HS-grad</td>\n",
       "      <td>9</td>\n",
       "      <td>Widowed</td>\n",
       "      <td>Adm-clerical</td>\n",
       "      <td>Unmarried</td>\n",
       "      <td>White</td>\n",
       "      <td>Female</td>\n",
       "      <td>0</td>\n",
       "      <td>0</td>\n",
       "      <td>40</td>\n",
       "      <td>United-States</td>\n",
       "      <td>&lt;=50K</td>\n",
       "    </tr>\n",
       "    <tr>\n",
       "      <th>48840</th>\n",
       "      <td>22</td>\n",
       "      <td>Private</td>\n",
       "      <td>201490</td>\n",
       "      <td>HS-grad</td>\n",
       "      <td>9</td>\n",
       "      <td>Never-married</td>\n",
       "      <td>Adm-clerical</td>\n",
       "      <td>Own-child</td>\n",
       "      <td>White</td>\n",
       "      <td>Male</td>\n",
       "      <td>0</td>\n",
       "      <td>0</td>\n",
       "      <td>20</td>\n",
       "      <td>United-States</td>\n",
       "      <td>&lt;=50K</td>\n",
       "    </tr>\n",
       "    <tr>\n",
       "      <th>48841</th>\n",
       "      <td>52</td>\n",
       "      <td>Self-emp-inc</td>\n",
       "      <td>287927</td>\n",
       "      <td>HS-grad</td>\n",
       "      <td>9</td>\n",
       "      <td>Married-civ-spouse</td>\n",
       "      <td>Exec-managerial</td>\n",
       "      <td>Wife</td>\n",
       "      <td>White</td>\n",
       "      <td>Female</td>\n",
       "      <td>15024</td>\n",
       "      <td>0</td>\n",
       "      <td>40</td>\n",
       "      <td>United-States</td>\n",
       "      <td>&gt;50K</td>\n",
       "    </tr>\n",
       "  </tbody>\n",
       "</table>\n",
       "<p>45222 rows × 15 columns</p>\n",
       "</div>"
      ],
      "text/plain": [
       "       age     workclass  fnlwgt     education  educational-num  \\\n",
       "0       25       Private  226802          11th                7   \n",
       "1       38       Private   89814       HS-grad                9   \n",
       "2       28     Local-gov  336951    Assoc-acdm               12   \n",
       "3       44       Private  160323  Some-college               10   \n",
       "5       34       Private  198693          10th                6   \n",
       "...    ...           ...     ...           ...              ...   \n",
       "48837   27       Private  257302    Assoc-acdm               12   \n",
       "48838   40       Private  154374       HS-grad                9   \n",
       "48839   58       Private  151910       HS-grad                9   \n",
       "48840   22       Private  201490       HS-grad                9   \n",
       "48841   52  Self-emp-inc  287927       HS-grad                9   \n",
       "\n",
       "           marital-status         occupation   relationship   race  gender  \\\n",
       "0           Never-married  Machine-op-inspct      Own-child  Black    Male   \n",
       "1      Married-civ-spouse    Farming-fishing        Husband  White    Male   \n",
       "2      Married-civ-spouse    Protective-serv        Husband  White    Male   \n",
       "3      Married-civ-spouse  Machine-op-inspct        Husband  Black    Male   \n",
       "5           Never-married      Other-service  Not-in-family  White    Male   \n",
       "...                   ...                ...            ...    ...     ...   \n",
       "48837  Married-civ-spouse       Tech-support           Wife  White  Female   \n",
       "48838  Married-civ-spouse  Machine-op-inspct        Husband  White    Male   \n",
       "48839             Widowed       Adm-clerical      Unmarried  White  Female   \n",
       "48840       Never-married       Adm-clerical      Own-child  White    Male   \n",
       "48841  Married-civ-spouse    Exec-managerial           Wife  White  Female   \n",
       "\n",
       "       capital-gain  capital-loss  hours-per-week native-country income  \n",
       "0                 0             0              40  United-States  <=50K  \n",
       "1                 0             0              50  United-States  <=50K  \n",
       "2                 0             0              40  United-States   >50K  \n",
       "3              7688             0              40  United-States   >50K  \n",
       "5                 0             0              30  United-States  <=50K  \n",
       "...             ...           ...             ...            ...    ...  \n",
       "48837             0             0              38  United-States  <=50K  \n",
       "48838             0             0              40  United-States   >50K  \n",
       "48839             0             0              40  United-States  <=50K  \n",
       "48840             0             0              20  United-States  <=50K  \n",
       "48841         15024             0              40  United-States   >50K  \n",
       "\n",
       "[45222 rows x 15 columns]"
      ]
     },
     "execution_count": 56,
     "metadata": {},
     "output_type": "execute_result"
    }
   ],
   "source": [
    "# remove all the rows that contain a missing value\n",
    "Adult_data.dropna()"
   ]
  },
  {
   "cell_type": "markdown",
   "metadata": {},
   "source": [
    "Difficulty (High): Finally, we look at how to impute the data.  However, we may need to use different methods for categorical and numeric data.  Let us create a `class` _DataFrameIputer_ which takes the 'TransformerMixin' class from scikit-learn  https://scikit-learn.org/stable/modules/generated/sklearn.base.TransformerMixin.html and uses the mean values for numeric columns and the most frequent value for non-numeric columns.  After that, we can use the new class to transform our data and input the missing values in the process.  "
   ]
  },
  {
   "cell_type": "code",
   "execution_count": 58,
   "metadata": {},
   "outputs": [
    {
     "name": "stdout",
     "output_type": "stream",
     "text": [
      "before...\n",
      "Missing columns for the Train data:\n",
      " workclass         2799\n",
      "occupation        2809\n",
      "native-country     857\n",
      "dtype: int64\n",
      "after...\n",
      "Missing columns for the Train data:\n",
      " Series([], dtype: int64)\n"
     ]
    }
   ],
   "source": [
    "from sklearn.base import TransformerMixin\n",
    "\n",
    "class DataFrameImputer(TransformerMixin):\n",
    "\n",
    "    def __init__(self):\n",
    "        \"\"\"Impute missing values.\n",
    "\n",
    "        Columns of dtype object are imputed with the most frequent value \n",
    "        in column.\n",
    "\n",
    "        Columns of other types are imputed with mean of column.\n",
    "\n",
    "        \"\"\"\n",
    "    def fit(self, X, y=None):\n",
    "        # Find most common value with value_counts() which returns \n",
    "        # counts in descending order so that the first element is the most frequently-occurring element.\n",
    "        self.fill = pd.Series([X[c].value_counts().index[0]\n",
    "            #Use that if type is object otherwise use mean                   \n",
    "            if X[c].dtype == np.dtype('O') else X[c].mean() for c in X],\n",
    "            index=X.columns)\n",
    "\n",
    "        return self\n",
    "\n",
    "    def transform(self, X, y=None):\n",
    "        return X.fillna(self.fill)\n",
    "\n",
    "\n",
    "#Define the data to be filled as X, we can pass the whole data frame and apply our new class\n",
    "X = Adult_data\n",
    "xt = DataFrameImputer().fit_transform(X)\n",
    "\n",
    "print('before...')\n",
    "#Let us see missing value for the train data before\n",
    "missing_val_count_by_column = (X.isnull().sum())\n",
    "print('Missing columns for the Train data:\\n',missing_val_count_by_column[missing_val_count_by_column>0])\n",
    "\n",
    "#and after\n",
    "print('after...')\n",
    "missing_val_count_by_column = (xt.isnull().sum())\n",
    "print('Missing columns for the Train data:\\n',missing_val_count_by_column[missing_val_count_by_column>0])\n",
    "\n",
    "\n"
   ]
  },
  {
   "cell_type": "markdown",
   "metadata": {},
   "source": [
    "Note that we could have used imputation only on the training part of the data frame, although if the classification algorithm we are going to use does not accept missing data, then we may need to apply the imputation on the whole dataset as we just did.  \n",
    "\n",
    "Now that is all for this lab!!! We have created a number of data frames we may use in later labs for classification so make sure you save your work ready for re-use later. "
   ]
  },
  {
   "cell_type": "code",
   "execution_count": null,
   "metadata": {},
   "outputs": [],
   "source": []
  }
 ],
 "metadata": {
  "kernelspec": {
   "display_name": "Python [conda env:base] *",
   "language": "python",
   "name": "conda-base-py"
  },
  "language_info": {
   "codemirror_mode": {
    "name": "ipython",
    "version": 3
   },
   "file_extension": ".py",
   "mimetype": "text/x-python",
   "name": "python",
   "nbconvert_exporter": "python",
   "pygments_lexer": "ipython3",
   "version": "3.12.2"
  }
 },
 "nbformat": 4,
 "nbformat_minor": 4
}
